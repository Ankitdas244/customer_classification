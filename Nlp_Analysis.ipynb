{
  "nbformat": 4,
  "nbformat_minor": 0,
  "metadata": {
    "colab": {
      "provenance": [],
      "authorship_tag": "ABX9TyOMd16jH2nDesYwCNns6St0",
      "include_colab_link": true
    },
    "kernelspec": {
      "name": "python3",
      "display_name": "Python 3"
    },
    "language_info": {
      "name": "python"
    }
  },
  "cells": [
    {
      "cell_type": "markdown",
      "metadata": {
        "id": "view-in-github",
        "colab_type": "text"
      },
      "source": [
        "<a href=\"https://colab.research.google.com/github/Ankitdas244/customer_classification/blob/main/Nlp_Analysis.ipynb\" target=\"_parent\"><img src=\"https://colab.research.google.com/assets/colab-badge.svg\" alt=\"Open In Colab\"/></a>"
      ]
    },
    {
      "cell_type": "code",
      "execution_count": 1,
      "metadata": {
        "colab": {
          "base_uri": "https://localhost:8080/"
        },
        "id": "kut-z5thU19Y",
        "outputId": "84512741-3d1e-45cd-8fa4-b6f6cbc49fe7"
      },
      "outputs": [
        {
          "output_type": "stream",
          "name": "stdout",
          "text": [
            "Found a match: am\n"
          ]
        }
      ],
      "source": [
        "import re\n",
        "\n",
        "text =\"I am a data scientist\"\n",
        "pattern = \"am\"\n",
        "\n",
        "match = re.search(pattern,text)\n",
        "if match:\n",
        "  print(\"Found a match:\",match.group())\n",
        "else:\n",
        "  print(\"No match Found\")"
      ]
    },
    {
      "cell_type": "code",
      "source": [
        "text =\"I am a data analyst\"\n",
        "pattern = \"analyst\"\n",
        "replacement =\"scientist\"\n",
        "\n",
        "new_text =re.sub(pattern,replacement,text)\n",
        "print(\"Original Text:\",text)\n",
        "print(\"New Text:\",new_text)"
      ],
      "metadata": {
        "colab": {
          "base_uri": "https://localhost:8080/"
        },
        "id": "j-8redKDU8sP",
        "outputId": "30dc60ab-2aed-4e4d-9d9a-39fc0ac04cc6"
      },
      "execution_count": 2,
      "outputs": [
        {
          "output_type": "stream",
          "name": "stdout",
          "text": [
            "Original Text: I am a data analyst\n",
            "New Text: I am a data scientist\n"
          ]
        }
      ]
    },
    {
      "cell_type": "code",
      "source": [
        "test1 = \"Hey, this is best : for ! us ;\"\n",
        "\n",
        "print(\"the original string is:\",test1)\n",
        "res =  re.sub(r'[^\\w\\s]',' ',test1)\n",
        "print(\"The String after punctuation filter :\"+res)\n"
      ],
      "metadata": {
        "colab": {
          "base_uri": "https://localhost:8080/"
        },
        "id": "xsvUqvCgU8p3",
        "outputId": "c924f4d1-d17b-4db3-c01b-fce59c9c656c"
      },
      "execution_count": 3,
      "outputs": [
        {
          "output_type": "stream",
          "name": "stdout",
          "text": [
            "the original string is: Hey, this is best : for ! us ;\n",
            "The String after punctuation filter :Hey  this is best   for   us  \n"
          ]
        }
      ]
    },
    {
      "cell_type": "code",
      "source": [
        "import nltk\n",
        "nltk.download('punkt_tab')"
      ],
      "metadata": {
        "colab": {
          "base_uri": "https://localhost:8080/"
        },
        "id": "7nRJ0N6uU8jK",
        "outputId": "7753f5d3-faa5-4ead-d59c-b2e79334a652"
      },
      "execution_count": 4,
      "outputs": [
        {
          "output_type": "stream",
          "name": "stderr",
          "text": [
            "[nltk_data] Downloading package punkt_tab to /root/nltk_data...\n",
            "[nltk_data]   Unzipping tokenizers/punkt_tab.zip.\n"
          ]
        },
        {
          "output_type": "execute_result",
          "data": {
            "text/plain": [
              "True"
            ]
          },
          "metadata": {},
          "execution_count": 4
        }
      ]
    },
    {
      "cell_type": "code",
      "source": [
        "text = \"This is an example sentence. Another sentence is here \"\n",
        "tokens = nltk.word_tokenize(text)\n",
        "print(tokens)\n",
        ""
      ],
      "metadata": {
        "colab": {
          "base_uri": "https://localhost:8080/"
        },
        "id": "hgMDFzQNU8gY",
        "outputId": "f89775fc-d064-4859-86aa-abf722586979"
      },
      "execution_count": 5,
      "outputs": [
        {
          "output_type": "stream",
          "name": "stdout",
          "text": [
            "['This', 'is', 'an', 'example', 'sentence', '.', 'Another', 'sentence', 'is', 'here']\n"
          ]
        }
      ]
    },
    {
      "cell_type": "code",
      "source": [
        "text = \"This is the first sentence. This is the second sentence. and this is the third sentence.\"\n",
        "sentence = nltk.sent_tokenize(text)\n",
        "print(sentence)"
      ],
      "metadata": {
        "colab": {
          "base_uri": "https://localhost:8080/"
        },
        "id": "CjJQyq3_U8dg",
        "outputId": "7e827f71-c7b0-48a7-c035-2a796caaba10"
      },
      "execution_count": 6,
      "outputs": [
        {
          "output_type": "stream",
          "name": "stdout",
          "text": [
            "['This is the first sentence.', 'This is the second sentence.', 'and this is the third sentence.']\n"
          ]
        }
      ]
    },
    {
      "cell_type": "code",
      "source": [
        "from nltk.util import ngrams\n",
        "\n",
        "text = \"The quick brown fowx jump over the lazy dog\"\n",
        "\n",
        "tokens = nltk.word_tokenize(text)\n",
        "\n",
        "bigrams = list(ngrams(tokens,2))\n",
        "trigrams = list(ngrams(tokens,3))\n",
        "\n",
        "print(\"Original text:\",text)\n",
        "print(\"Tokens:\",tokens)\n",
        "print(\"Bigrams:\",bigrams)\n",
        "print(\"Trigrams:\",trigrams)"
      ],
      "metadata": {
        "colab": {
          "base_uri": "https://localhost:8080/"
        },
        "id": "b3F9zYL2VS4t",
        "outputId": "a5cc277a-5305-40c1-a97f-4ab1c5db49a5"
      },
      "execution_count": 7,
      "outputs": [
        {
          "output_type": "stream",
          "name": "stdout",
          "text": [
            "Original text: The quick brown fowx jump over the lazy dog\n",
            "Tokens: ['The', 'quick', 'brown', 'fowx', 'jump', 'over', 'the', 'lazy', 'dog']\n",
            "Bigrams: [('The', 'quick'), ('quick', 'brown'), ('brown', 'fowx'), ('fowx', 'jump'), ('jump', 'over'), ('over', 'the'), ('the', 'lazy'), ('lazy', 'dog')]\n",
            "Trigrams: [('The', 'quick', 'brown'), ('quick', 'brown', 'fowx'), ('brown', 'fowx', 'jump'), ('fowx', 'jump', 'over'), ('jump', 'over', 'the'), ('over', 'the', 'lazy'), ('the', 'lazy', 'dog')]\n"
          ]
        }
      ]
    },
    {
      "cell_type": "code",
      "source": [
        "from nltk.stem import PorterStemmer\n",
        "\n",
        "stemmer = PorterStemmer()\n",
        "\n",
        "word = \"Jumping\"\n",
        "stemmed_word = stemmer.stem(word)\n",
        "print(stemmed_word)"
      ],
      "metadata": {
        "colab": {
          "base_uri": "https://localhost:8080/"
        },
        "id": "fJpx0zo9VS0v",
        "outputId": "74c11e57-3492-41f7-e7f0-32e8062a711e"
      },
      "execution_count": 8,
      "outputs": [
        {
          "output_type": "stream",
          "name": "stdout",
          "text": [
            "jump\n"
          ]
        }
      ]
    },
    {
      "cell_type": "code",
      "source": [
        "import nltk\n",
        "nltk.download('omw-1.4')\n",
        "from nltk.stem import WordNetLemmatizer\n",
        "\n",
        "nltk.download('wordnet')\n",
        "\n",
        "lemmatizer = WordNetLemmatizer()\n",
        "word = \"jumping\"\n",
        "\n",
        "lemma_word = lemmatizer.lemmatize(word, pos=\"v\")\n",
        "\n",
        "print(lemma_word)"
      ],
      "metadata": {
        "colab": {
          "base_uri": "https://localhost:8080/"
        },
        "id": "Lmv4b_2kVSwE",
        "outputId": "3fcecc07-0c2d-45f1-dfbc-6d1f3cfac2a7"
      },
      "execution_count": 9,
      "outputs": [
        {
          "output_type": "stream",
          "name": "stderr",
          "text": [
            "[nltk_data] Downloading package omw-1.4 to /root/nltk_data...\n",
            "[nltk_data] Downloading package wordnet to /root/nltk_data...\n"
          ]
        },
        {
          "output_type": "stream",
          "name": "stdout",
          "text": [
            "jump\n"
          ]
        }
      ]
    },
    {
      "cell_type": "code",
      "source": [
        "from nltk.corpus import stopwords\n",
        "nltk.download('stopwords')\n",
        "\n",
        "stop_words = set(stopwords.words('english'))\n",
        "\n",
        "text = \"this is an example sentence that includes stop words\"\n",
        "\n",
        "tokens = nltk.word_tokenize(text)\n",
        "\n",
        "filtered_tokens = [word for word in tokens if not word.lower() in stop_words]\n",
        "\n",
        "filtered_text = ' '.join(filtered_tokens)\n",
        "\n",
        "print(\"data\",filtered_text)\n"
      ],
      "metadata": {
        "colab": {
          "base_uri": "https://localhost:8080/"
        },
        "id": "qrueVFiJVf29",
        "outputId": "5ba414a0-2333-490f-8a79-2ee494e3dce7"
      },
      "execution_count": 10,
      "outputs": [
        {
          "output_type": "stream",
          "name": "stdout",
          "text": [
            "data example sentence includes stop words\n"
          ]
        },
        {
          "output_type": "stream",
          "name": "stderr",
          "text": [
            "[nltk_data] Downloading package stopwords to /root/nltk_data...\n",
            "[nltk_data]   Unzipping corpora/stopwords.zip.\n"
          ]
        }
      ]
    },
    {
      "cell_type": "code",
      "source": [
        "from nltk.tokenize import word_tokenize\n",
        "nltk.download('averaged_perceptron_tagger_eng')\n",
        "\n",
        "text = \"The quick brown fox jumps over the lazy dog\"\n",
        "tokens = word_tokenize(text)\n",
        "pos_tags = nltk.pos_tag(tokens)\n",
        "print(pos_tags)"
      ],
      "metadata": {
        "colab": {
          "base_uri": "https://localhost:8080/"
        },
        "id": "TFZlYBZ5Vfzg",
        "outputId": "d55a26d4-0679-4853-a006-fb66e75c2b63"
      },
      "execution_count": 11,
      "outputs": [
        {
          "output_type": "stream",
          "name": "stderr",
          "text": [
            "[nltk_data] Downloading package averaged_perceptron_tagger_eng to\n",
            "[nltk_data]     /root/nltk_data...\n",
            "[nltk_data]   Unzipping taggers/averaged_perceptron_tagger_eng.zip.\n"
          ]
        },
        {
          "output_type": "stream",
          "name": "stdout",
          "text": [
            "[('The', 'DT'), ('quick', 'JJ'), ('brown', 'NN'), ('fox', 'NN'), ('jumps', 'VBZ'), ('over', 'IN'), ('the', 'DT'), ('lazy', 'JJ'), ('dog', 'NN')]\n"
          ]
        }
      ]
    },
    {
      "cell_type": "code",
      "source": [
        "\n",
        "from nltk import pos_tag, ne_chunk\n",
        "nltk.download('maxent_ne_chunker_tab')\n",
        "nltk.download('words')\n",
        "\n",
        "text = \"Apple is expected to launch its new iPhone is September at the Steve Jobs Theater in California.\"\n",
        "\n",
        "tokens = word_tokenize(text)\n",
        "\n",
        "tagged = pos_tag(tokens)\n",
        "\n",
        "ne = ne_chunk(tagged)\n",
        "\n",
        "for chunk in ne:\n",
        "  if hasattr(chunk,'label'):\n",
        "    print(chunk.label(),' '.join(c[0] for c in chunk))\n"
      ],
      "metadata": {
        "colab": {
          "base_uri": "https://localhost:8080/"
        },
        "id": "EHDqZvngVfvA",
        "outputId": "cb64610a-5fdc-4793-ba2a-e34eabbe1d75"
      },
      "execution_count": 12,
      "outputs": [
        {
          "output_type": "stream",
          "name": "stderr",
          "text": [
            "[nltk_data] Downloading package maxent_ne_chunker_tab to\n",
            "[nltk_data]     /root/nltk_data...\n",
            "[nltk_data]   Unzipping chunkers/maxent_ne_chunker_tab.zip.\n",
            "[nltk_data] Downloading package words to /root/nltk_data...\n",
            "[nltk_data]   Unzipping corpora/words.zip.\n"
          ]
        },
        {
          "output_type": "stream",
          "name": "stdout",
          "text": [
            "GPE Apple\n",
            "ORGANIZATION iPhone\n",
            "PERSON Steve Jobs\n",
            "GPE California\n"
          ]
        }
      ]
    },
    {
      "cell_type": "code",
      "source": [
        "from nltk.sentiment import SentimentIntensityAnalyzer\n",
        "nltk.download('vader_lexicon')\n",
        "\n",
        "sid = SentimentIntensityAnalyzer()\n",
        "\n",
        "text = \"I hate this product It would not work perfectly and I would definetly recommend it to anyone\"\n",
        "\n",
        "scores = sid.polarity_scores(text)\n",
        "\n",
        "print(scores)\n"
      ],
      "metadata": {
        "colab": {
          "base_uri": "https://localhost:8080/"
        },
        "id": "nHJi1cCoVpRH",
        "outputId": "14a2442b-c2b2-4e7f-bc3b-fc8bb3c46b88"
      },
      "execution_count": 13,
      "outputs": [
        {
          "output_type": "stream",
          "name": "stdout",
          "text": [
            "{'neg': 0.328, 'neu': 0.556, 'pos': 0.116, 'compound': -0.6776}\n"
          ]
        },
        {
          "output_type": "stream",
          "name": "stderr",
          "text": [
            "[nltk_data] Downloading package vader_lexicon to /root/nltk_data...\n"
          ]
        }
      ]
    }
  ]
}